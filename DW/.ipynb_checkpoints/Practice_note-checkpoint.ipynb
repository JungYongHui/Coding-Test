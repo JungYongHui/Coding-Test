{
 "cells": [
  {
   "cell_type": "code",
   "execution_count": 10,
   "id": "ee77a6f3",
   "metadata": {},
   "outputs": [
    {
     "name": "stdout",
     "output_type": "stream",
     "text": [
      "비어있음\n"
     ]
    }
   ],
   "source": [
    "stack = []\n",
    "\n",
    "if not stack:\n",
    "    print('비어있음')\n",
    "else:\n",
    "    print('들어있음')"
   ]
  },
  {
   "cell_type": "code",
   "execution_count": 2,
   "id": "7048ca93",
   "metadata": {},
   "outputs": [],
   "source": [
    "li = ['1', '2']"
   ]
  },
  {
   "cell_type": "code",
   "execution_count": 11,
   "id": "f59bc5d1",
   "metadata": {},
   "outputs": [
    {
     "name": "stdout",
     "output_type": "stream",
     "text": [
      "들어있음\n"
     ]
    }
   ],
   "source": [
    "stack = []\n",
    "\n",
    "if stack:\n",
    "    print('비어있음')\n",
    "else:\n",
    "    print('들어있음')"
   ]
  },
  {
   "cell_type": "code",
   "execution_count": 15,
   "id": "76e9f4c2",
   "metadata": {
    "scrolled": false
   },
   "outputs": [
    {
     "name": "stdout",
     "output_type": "stream",
     "text": [
      "[8, 7, 3, 2, 1]\n"
     ]
    }
   ],
   "source": [
    "li = [1, 1, 1, 6, 0]\n",
    "li.sort()\n",
    "li2 = [2, 7, 8, 3, 1]\n",
    "li2.sort()\n",
    "li2.reverse()\n",
    "\n",
    "\n",
    "print(li2)"
   ]
  },
  {
   "cell_type": "code",
   "execution_count": 131,
   "id": "9abca886",
   "metadata": {},
   "outputs": [],
   "source": [
    "li = [[3, 4], [1, 1], [1, -1], [2, 2], [3, 3]]"
   ]
  },
  {
   "cell_type": "code",
   "execution_count": 134,
   "id": "b9675f7e",
   "metadata": {},
   "outputs": [],
   "source": [
    "li.sort()"
   ]
  },
  {
   "cell_type": "code",
   "execution_count": 135,
   "id": "e19fa1a4",
   "metadata": {},
   "outputs": [
    {
     "data": {
      "text/plain": [
       "[[1, -1], [1, 1], [2, 2], [3, 3], [3, 4]]"
      ]
     },
     "execution_count": 135,
     "metadata": {},
     "output_type": "execute_result"
    }
   ],
   "source": [
    "li"
   ]
  },
  {
   "cell_type": "code",
   "execution_count": 140,
   "id": "6262ecf5",
   "metadata": {},
   "outputs": [
    {
     "data": {
      "text/plain": [
       "[('a', 1), ('b', 5), ('c', 4), ('d', 3)]"
      ]
     },
     "execution_count": 140,
     "metadata": {},
     "output_type": "execute_result"
    }
   ],
   "source": [
    "di = {'a': 1, 'c': 4, 'd': 3, 'b':5}\n",
    "\n",
    "sorted(di.items())"
   ]
  },
  {
   "cell_type": "code",
   "execution_count": 147,
   "id": "6e75925e",
   "metadata": {},
   "outputs": [
    {
     "data": {
      "text/plain": [
       "[('a', 1), ('b', 5), ('c', 4), ('d', 3)]"
      ]
     },
     "execution_count": 147,
     "metadata": {},
     "output_type": "execute_result"
    }
   ],
   "source": [
    "func = lambda x:(len(x), x)\n",
    "a = sorted(di.items(), key = func)\n",
    "a"
   ]
  },
  {
   "cell_type": "code",
   "execution_count": 180,
   "id": "26e84a82",
   "metadata": {},
   "outputs": [
    {
     "name": "stdout",
     "output_type": "stream",
     "text": [
      "[1, 2, 3, 4]\n"
     ]
    }
   ],
   "source": [
    "a = \"[1,2,3,4]\"\n",
    "a = list(map(int,a[1:-1].split(',')))\n",
    "\n",
    "# a = list(map(int,a.split(',')))\n",
    "print(a)"
   ]
  },
  {
   "cell_type": "code",
   "execution_count": 206,
   "id": "e7b25d54",
   "metadata": {},
   "outputs": [
    {
     "data": {
      "text/plain": [
       "'1,2,3,4'"
      ]
     },
     "execution_count": 206,
     "metadata": {},
     "output_type": "execute_result"
    }
   ],
   "source": [
    "a = \"[1,2,3,4]\"\n",
    "\n",
    "a[1:-1]"
   ]
  },
  {
   "cell_type": "code",
   "execution_count": 204,
   "id": "eefe6870",
   "metadata": {},
   "outputs": [],
   "source": [
    "aa = ['r','d','d']"
   ]
  },
  {
   "cell_type": "code",
   "execution_count": 215,
   "id": "154afa40",
   "metadata": {},
   "outputs": [
    {
     "name": "stdout",
     "output_type": "stream",
     "text": [
      "['R', 'D', 'D', 'D', 'R', 'D', 'R', 'R', 'R', 'D', 'D', 'R', 'R']\n",
      "['', 'DDD', 'D', '', '', 'DD', '', '']\n"
     ]
    }
   ],
   "source": [
    "a = 'RDDDRDRRRDDRR'\n",
    "print(list(a))\n",
    "ai = a.split(sep = 'R')\n",
    "print(ai)"
   ]
  },
  {
   "cell_type": "code",
   "execution_count": 238,
   "id": "de2b3695",
   "metadata": {},
   "outputs": [],
   "source": [
    "# d가 나왔다가 r이 나오면 끊는다.\n",
    "# d에서 r로 넘어가는 시점을 체크\n",
    "# 본 숫자와 비교숫자?\n",
    "\n",
    "a = 'RDDDRDRRRDDRR'\n",
    "b = 'DDDRDRRRDDR'"
   ]
  },
  {
   "cell_type": "code",
   "execution_count": 232,
   "id": "546631d8",
   "metadata": {
    "scrolled": true
   },
   "outputs": [
    {
     "data": {
      "text/plain": [
       "['', 'DDD', 'D', '', '', 'DD', '', '']"
      ]
     },
     "execution_count": 232,
     "metadata": {},
     "output_type": "execute_result"
    }
   ],
   "source": [
    "a.split('R')"
   ]
  },
  {
   "cell_type": "code",
   "execution_count": 239,
   "id": "90e01b94",
   "metadata": {
    "scrolled": false
   },
   "outputs": [
    {
     "data": {
      "text/plain": [
       "['DDD', 'D', '', '', 'DD', '']"
      ]
     },
     "execution_count": 239,
     "metadata": {},
     "output_type": "execute_result"
    }
   ],
   "source": [
    "b.split('R')"
   ]
  },
  {
   "cell_type": "code",
   "execution_count": 303,
   "id": "8740d37c",
   "metadata": {},
   "outputs": [
    {
     "data": {
      "text/plain": [
       "'DDDRDRRRDDR'"
      ]
     },
     "execution_count": 303,
     "metadata": {},
     "output_type": "execute_result"
    }
   ],
   "source": [
    "b"
   ]
  },
  {
   "cell_type": "code",
   "execution_count": 323,
   "id": "8ff9337b",
   "metadata": {},
   "outputs": [
    {
     "data": {
      "text/plain": [
       "'RDDDRDRRRDDRR'"
      ]
     },
     "execution_count": 323,
     "metadata": {},
     "output_type": "execute_result"
    }
   ],
   "source": [
    "a"
   ]
  },
  {
   "cell_type": "code",
   "execution_count": 322,
   "id": "a2e74d13",
   "metadata": {},
   "outputs": [
    {
     "name": "stdout",
     "output_type": "stream",
     "text": [
      "RDDD\n",
      "RD\n",
      "RRRDD\n"
     ]
    }
   ],
   "source": [
    "split_list = []\n",
    "first = True\n",
    "for i in range(len(a)):\n",
    "    if a[i]==\"D\" and a[i] != a[i+1]:\n",
    "        if first is True:\n",
    "            split_list.append(a[:i+1]) # **\n",
    "            print(a[:i+1])\n",
    "            j = i+1 # i인덱스를 j에 저장\n",
    "            first = not first\n",
    "            pass\n",
    "        \n",
    "        else:\n",
    "            split_list.append(a[j:i+1]) # **\n",
    "            print(a[j:i+1])\n",
    "            j=i+1 # i인덱스를 j에 저장\n",
    "split_list.append(a[j:])"
   ]
  },
  {
   "cell_type": "code",
   "execution_count": null,
   "id": "7bd6b239",
   "metadata": {},
   "outputs": [],
   "source": []
  },
  {
   "cell_type": "code",
   "execution_count": 345,
   "id": "30dd0d11",
   "metadata": {},
   "outputs": [],
   "source": [
    "c = [1, 2, 3, 4,5]\n",
    "del c[-(2):]"
   ]
  },
  {
   "cell_type": "code",
   "execution_count": 346,
   "id": "caf62b6b",
   "metadata": {},
   "outputs": [
    {
     "data": {
      "text/plain": [
       "[1, 2, 3]"
      ]
     },
     "execution_count": 346,
     "metadata": {},
     "output_type": "execute_result"
    }
   ],
   "source": [
    "c"
   ]
  },
  {
   "cell_type": "code",
   "execution_count": 409,
   "id": "879139cf",
   "metadata": {},
   "outputs": [],
   "source": [
    "b = 'RRRRDDDDD'\n",
    "c = [1, 2, 3, 4]"
   ]
  },
  {
   "cell_type": "code",
   "execution_count": 414,
   "id": "b207bb7a",
   "metadata": {},
   "outputs": [
    {
     "data": {
      "text/plain": [
       "9"
      ]
     },
     "execution_count": 414,
     "metadata": {},
     "output_type": "execute_result"
    }
   ],
   "source": [
    "j"
   ]
  },
  {
   "cell_type": "code",
   "execution_count": 415,
   "id": "49101915",
   "metadata": {
    "scrolled": true
   },
   "outputs": [
    {
     "name": "stdout",
     "output_type": "stream",
     "text": [
      "9\n"
     ]
    }
   ],
   "source": [
    "split_list = []\n",
    "first = True\n",
    "for i in range(len(b)):\n",
    "    try:\n",
    "        if b[i]==\"D\" and b[i] != b[i+1]:\n",
    "            # first\n",
    "            if first is True:\n",
    "                split_list.append(b[:i+1]) # **\n",
    "                j = i+1 # i인덱스를 j에 저장\n",
    "                first = not first\n",
    "\n",
    "            # middle\n",
    "            else:\n",
    "                split_list.append(b[j:i+1]) # **\n",
    "                j=i+1 # i인덱스를 j에 저장\n",
    "                \n",
    "    except:\n",
    "        split_list.append(b)\n",
    "        \n",
    "if j: # final\n",
    "    print(j)\n",
    "    split_list.append(b[j:])\n",
    "    \n",
    "    \n",
    "\n",
    "for i in split_list:\n",
    "    if i.count('R')%2 ==0 or i.count('R') == 0: # 왼쪽으로 제거\n",
    "        delete = i.count('D')\n",
    "        del c[:delete] # 여기서 c는 배열\n",
    "        \n",
    "    else: # 오른쪽으로 제거\n",
    "        delete = i.count('D')\n",
    "        del c[-(delete):]"
   ]
  },
  {
   "cell_type": "code",
   "execution_count": 411,
   "id": "d8b5ca6e",
   "metadata": {
    "scrolled": true
   },
   "outputs": [
    {
     "data": {
      "text/plain": [
       "['RRRRDDDDD', '']"
      ]
     },
     "execution_count": 411,
     "metadata": {},
     "output_type": "execute_result"
    }
   ],
   "source": [
    "split_list"
   ]
  },
  {
   "cell_type": "code",
   "execution_count": null,
   "id": "7417dd62",
   "metadata": {},
   "outputs": [],
   "source": []
  },
  {
   "cell_type": "code",
   "execution_count": null,
   "id": "d95fee85",
   "metadata": {},
   "outputs": [],
   "source": []
  },
  {
   "cell_type": "code",
   "execution_count": null,
   "id": "23ea3ebd",
   "metadata": {},
   "outputs": [],
   "source": []
  },
  {
   "cell_type": "code",
   "execution_count": null,
   "id": "c174d54d",
   "metadata": {},
   "outputs": [],
   "source": []
  },
  {
   "cell_type": "code",
   "execution_count": null,
   "id": "844d2028",
   "metadata": {},
   "outputs": [],
   "source": []
  },
  {
   "cell_type": "code",
   "execution_count": null,
   "id": "b49e11fa",
   "metadata": {},
   "outputs": [],
   "source": []
  },
  {
   "cell_type": "code",
   "execution_count": null,
   "id": "cccdc2ba",
   "metadata": {},
   "outputs": [],
   "source": []
  }
 ],
 "metadata": {
  "kernelspec": {
   "display_name": "Python 3",
   "language": "python",
   "name": "python3"
  },
  "language_info": {
   "codemirror_mode": {
    "name": "ipython",
    "version": 3
   },
   "file_extension": ".py",
   "mimetype": "text/x-python",
   "name": "python",
   "nbconvert_exporter": "python",
   "pygments_lexer": "ipython3",
   "version": "3.8.8"
  }
 },
 "nbformat": 4,
 "nbformat_minor": 5
}
