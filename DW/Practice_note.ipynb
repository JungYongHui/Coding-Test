{
 "cells": [
  {
   "cell_type": "code",
   "execution_count": 10,
   "metadata": {},
   "outputs": [
    {
     "name": "stdout",
     "output_type": "stream",
     "text": [
      "비어있음\n"
     ]
    }
   ],
   "source": [
    "stack = []\n",
    "\n",
    "if not stack:\n",
    "    print('비어있음')\n",
    "else:\n",
    "    print('들어있음')"
   ]
  },
  {
   "cell_type": "code",
   "execution_count": 2,
   "id": "21746413",
   "metadata": {},
   "outputs": [],
   "source": [
    "li = ['1', '2']"
   ]
  },
  {
   "cell_type": "code",
   "execution_count": 11,
   "metadata": {
    "scrolled": true
   },
   "outputs": [
    {
     "name": "stdout",
     "output_type": "stream",
     "text": [
      "들어있음\n"
     ]
    }
   ],
   "source": [
    "stack = []\n",
    "\n",
    "if stack:\n",
    "    print('비어있음')\n",
    "else:\n",
    "    print('들어있음')"
   ]
  },
  {
   "cell_type": "code",
<<<<<<< HEAD
   "execution_count": 3,
   "metadata": {},
   "outputs": [
    {
     "ename": "ValueError",
     "evalue": "invalid literal for int() with base 10: ''",
     "output_type": "error",
     "traceback": [
      "\u001b[1;31m---------------------------------------------------------------------------\u001b[0m",
      "\u001b[1;31mValueError\u001b[0m                                Traceback (most recent call last)",
      "\u001b[1;32m<ipython-input-3-c1dbe7956cb3>\u001b[0m in \u001b[0;36m<module>\u001b[1;34m\u001b[0m\n\u001b[0;32m      2\u001b[0m \u001b[1;33m\u001b[0m\u001b[0m\n\u001b[0;32m      3\u001b[0m \u001b[1;32mwhile\u001b[0m \u001b[1;32mTrue\u001b[0m\u001b[1;33m:\u001b[0m\u001b[1;33m\u001b[0m\u001b[1;33m\u001b[0m\u001b[0m\n\u001b[1;32m----> 4\u001b[1;33m     \u001b[0minput\u001b[0m \u001b[1;33m=\u001b[0m \u001b[0mint\u001b[0m\u001b[1;33m(\u001b[0m\u001b[0msys\u001b[0m\u001b[1;33m.\u001b[0m\u001b[0mstdin\u001b[0m\u001b[1;33m.\u001b[0m\u001b[0mreadline\u001b[0m\u001b[1;33m(\u001b[0m\u001b[1;33m)\u001b[0m\u001b[1;33m)\u001b[0m \u001b[1;31m# 정수 입력받음(첫째줄)\u001b[0m\u001b[1;33m\u001b[0m\u001b[1;33m\u001b[0m\u001b[0m\n\u001b[0m\u001b[0;32m      5\u001b[0m \u001b[1;33m\u001b[0m\u001b[0m\n\u001b[0;32m      6\u001b[0m     \u001b[0mbox\u001b[0m \u001b[1;33m=\u001b[0m \u001b[1;33m[\u001b[0m\u001b[1;33m]\u001b[0m\u001b[1;33m\u001b[0m\u001b[1;33m\u001b[0m\u001b[0m\n",
      "\u001b[1;31mValueError\u001b[0m: invalid literal for int() with base 10: ''"
=======
   "execution_count": 15,
   "id": "76e9f4c2",
   "metadata": {
    "scrolled": false
   },
   "outputs": [
    {
     "name": "stdout",
     "output_type": "stream",
     "text": [
      "[8, 7, 3, 2, 1]\n"
     ]
    }
   ],
   "source": [
    "li = [1, 1, 1, 6, 0]\n",
    "li.sort()\n",
    "li2 = [2, 7, 8, 3, 1]\n",
    "li2.sort()\n",
    "li2.reverse()\n",
    "\n",
    "\n",
    "print(li2)"
   ]
  },
  {
   "cell_type": "code",
   "execution_count": 131,
   "id": "0d51cb99",
   "metadata": {},
   "outputs": [],
   "source": [
    "li = [[3, 4], [1, 1], [1, -1], [2, 2], [3, 3]]"
   ]
  },
  {
   "cell_type": "code",
   "execution_count": 134,
   "id": "f91c1fd6",
   "metadata": {},
   "outputs": [],
   "source": [
    "li.sort()"
   ]
  },
  {
   "cell_type": "code",
   "execution_count": 135,
   "id": "32eff345",
   "metadata": {},
   "outputs": [
    {
     "data": {
      "text/plain": [
       "[[1, -1], [1, 1], [2, 2], [3, 3], [3, 4]]"
      ]
     },
     "execution_count": 135,
     "metadata": {},
     "output_type": "execute_result"
    }
   ],
   "source": [
    "li"
   ]
  },
  {
   "cell_type": "code",
   "execution_count": 140,
   "id": "b71035ae",
   "metadata": {},
   "outputs": [
    {
     "data": {
      "text/plain": [
       "[('a', 1), ('b', 5), ('c', 4), ('d', 3)]"
      ]
     },
     "execution_count": 140,
     "metadata": {},
     "output_type": "execute_result"
    }
   ],
   "source": [
    "di = {'a': 1, 'c': 4, 'd': 3, 'b':5}\n",
    "\n",
    "sorted(di.items())"
   ]
  },
  {
   "cell_type": "code",
   "execution_count": 147,
   "id": "b3120168",
   "metadata": {},
   "outputs": [
    {
     "data": {
      "text/plain": [
       "[('a', 1), ('b', 5), ('c', 4), ('d', 3)]"
      ]
     },
     "execution_count": 147,
     "metadata": {},
     "output_type": "execute_result"
    }
   ],
   "source": [
    "func = lambda x:(len(x), x)\n",
    "a = sorted(di.items(), key = func)\n",
    "a"
   ]
  },
  {
   "cell_type": "code",
   "execution_count": 180,
   "id": "6723a046",
   "metadata": {},
   "outputs": [
    {
     "name": "stdout",
     "output_type": "stream",
     "text": [
      "[1, 2, 3, 4]\n"
     ]
    }
   ],
   "source": [
    "a = \"[1,2,3,4]\"\n",
    "a = list(map(int,a[1:-1].split(',')))\n",
    "\n",
    "# a = list(map(int,a.split(',')))\n",
    "print(a)"
   ]
  },
  {
   "cell_type": "code",
   "execution_count": 206,
   "id": "da87b798",
   "metadata": {},
   "outputs": [
    {
     "data": {
      "text/plain": [
       "'1,2,3,4'"
      ]
     },
     "execution_count": 206,
     "metadata": {},
     "output_type": "execute_result"
    }
   ],
   "source": [
    "a = \"[1,2,3,4]\"\n",
    "\n",
    "a[1:-1]"
   ]
  },
  {
   "cell_type": "code",
   "execution_count": 204,
   "id": "60138f44",
   "metadata": {},
   "outputs": [],
   "source": [
    "aa = ['r','d','d']"
   ]
  },
  {
   "cell_type": "code",
   "execution_count": 215,
   "id": "d6091b51",
   "metadata": {},
   "outputs": [
    {
     "name": "stdout",
     "output_type": "stream",
     "text": [
      "['R', 'D', 'D', 'D', 'R', 'D', 'R', 'R', 'R', 'D', 'D', 'R', 'R']\n",
      "['', 'DDD', 'D', '', '', 'DD', '', '']\n"
     ]
    }
   ],
   "source": [
    "a = 'RDDDRDRRRDDRR'\n",
    "print(list(a))\n",
    "ai = a.split(sep = 'R')\n",
    "print(ai)"
   ]
  },
  {
   "cell_type": "code",
   "execution_count": 238,
   "id": "5688e9af",
   "metadata": {},
   "outputs": [],
   "source": [
    "# d가 나왔다가 r이 나오면 끊는다.\n",
    "# d에서 r로 넘어가는 시점을 체크\n",
    "# 본 숫자와 비교숫자?\n",
    "\n",
    "a = 'RDDDRDRRRDDRR'\n",
    "b = 'DDDRDRRRDDR'"
   ]
  },
  {
   "cell_type": "code",
   "execution_count": 232,
   "id": "79176abc",
   "metadata": {
    "scrolled": true
   },
   "outputs": [
    {
     "data": {
      "text/plain": [
       "['', 'DDD', 'D', '', '', 'DD', '', '']"
      ]
     },
     "execution_count": 232,
     "metadata": {},
     "output_type": "execute_result"
    }
   ],
   "source": [
    "a.split('R')"
   ]
  },
  {
   "cell_type": "code",
   "execution_count": 239,
   "id": "a0b4d8cf",
   "metadata": {
    "scrolled": false
   },
   "outputs": [
    {
     "data": {
      "text/plain": [
       "['DDD', 'D', '', '', 'DD', '']"
      ]
     },
     "execution_count": 239,
     "metadata": {},
     "output_type": "execute_result"
    }
   ],
   "source": [
    "b.split('R')"
   ]
  },
  {
   "cell_type": "code",
   "execution_count": 303,
   "id": "32a21ba5",
   "metadata": {},
   "outputs": [
    {
     "data": {
      "text/plain": [
       "'DDDRDRRRDDR'"
      ]
     },
     "execution_count": 303,
     "metadata": {},
     "output_type": "execute_result"
    }
   ],
   "source": [
    "b"
   ]
  },
  {
   "cell_type": "code",
   "execution_count": 323,
   "id": "d1425847",
   "metadata": {},
   "outputs": [
    {
     "data": {
      "text/plain": [
       "'RDDDRDRRRDDRR'"
      ]
     },
     "execution_count": 323,
     "metadata": {},
     "output_type": "execute_result"
    }
   ],
   "source": [
    "a"
   ]
  },
  {
   "cell_type": "code",
   "execution_count": 322,
   "id": "1e4dd6bb",
   "metadata": {},
   "outputs": [
    {
     "name": "stdout",
     "output_type": "stream",
     "text": [
      "RDDD\n",
      "RD\n",
      "RRRDD\n"
     ]
    }
   ],
   "source": [
    "split_list = []\n",
    "first = True\n",
    "for i in range(len(a)):\n",
    "    if a[i]==\"D\" and a[i] != a[i+1]:\n",
    "        if first is True:\n",
    "            split_list.append(a[:i+1]) # **\n",
    "            print(a[:i+1])\n",
    "            j = i+1 # i인덱스를 j에 저장\n",
    "            first = not first\n",
    "            pass\n",
    "        \n",
    "        else:\n",
    "            split_list.append(a[j:i+1]) # **\n",
    "            print(a[j:i+1])\n",
    "            j=i+1 # i인덱스를 j에 저장\n",
    "split_list.append(a[j:])"
   ]
  },
  {
   "cell_type": "code",
   "execution_count": null,
   "id": "12685fa8",
   "metadata": {},
   "outputs": [],
   "source": []
  },
  {
   "cell_type": "code",
   "execution_count": 345,
   "id": "c87bd566",
   "metadata": {},
   "outputs": [],
   "source": [
    "c = [1, 2, 3, 4,5]\n",
    "del c[-(2):]"
   ]
  },
  {
   "cell_type": "code",
   "execution_count": 346,
   "id": "c0fdc8e7",
   "metadata": {},
   "outputs": [
    {
     "data": {
      "text/plain": [
       "[1, 2, 3]"
      ]
     },
     "execution_count": 346,
     "metadata": {},
     "output_type": "execute_result"
    }
   ],
   "source": [
    "c"
   ]
  },
  {
   "cell_type": "code",
   "execution_count": 462,
   "id": "fec208b3",
   "metadata": {},
   "outputs": [],
   "source": [
    "b = 'DD'\n",
    "c = [42, 8, 9]"
   ]
  },
  {
   "cell_type": "code",
   "execution_count": 463,
   "id": "e5829d86",
   "metadata": {
    "scrolled": true
   },
   "outputs": [
    {
     "name": "stdout",
     "output_type": "stream",
     "text": [
      "['DD']\n",
      "[9]\n"
     ]
    }
   ],
   "source": [
    "split_list = []\n",
    "first = True\n",
    "j = 0\n",
    "\n",
    "# step1\n",
    "for i in range(len(b)):\n",
    "    try:\n",
    "        if b[i]==\"D\" and b[i] != b[i+1]:\n",
    "            # first\n",
    "            if first is True:\n",
    "                split_list.append(b[:i+1]) # **\n",
    "                j = i+1 # i인덱스를 j에 저장\n",
    "                first = not first\n",
    "\n",
    "            # middle\n",
    "            else:\n",
    "                split_list.append(b[j:i+1]) # **\n",
    "                j=i+1 # i인덱스를 j에 저장\n",
    "                \n",
    "    except:\n",
    "        split_list.append(b)\n",
    "        \n",
    "if j: # final\n",
    "    split_list.append(b[j:])\n",
    "    \n",
    "    \n",
    "# step2\n",
    "for i in split_list:\n",
    "    if len(b) >= len(c):\n",
    "        print('error')\n",
    "        break\n",
    "    \n",
    "    else:\n",
    "        if i.count('R')%2 ==0 or i.count('R') == 0: # 왼쪽으로 제거\n",
    "            delete = i.count('D')\n",
    "            del c[:delete] # 여기서 c는 배열\n",
    "\n",
    "        else: # 오른쪽으로 제거\n",
    "            delete = i.count('D')\n",
    "            del c[-(delete):]\n",
    "\n",
    "        if b.count('R')%2 == 1:\n",
    "            c.reverse()\n",
    "        \n",
    "        print(split_list)\n",
    "        print(c)\n",
    "        \n",
    "        \n",
    "# print(split_list)\n",
    "# print(c)"
   ]
  },
  {
   "cell_type": "code",
   "execution_count": 464,
   "id": "8269ca12",
   "metadata": {},
   "outputs": [
    {
     "ename": "NameError",
     "evalue": "name 'func_input' is not defined",
     "output_type": "error",
     "traceback": [
      "\u001b[1;31m---------------------------------------------------------------------------\u001b[0m",
      "\u001b[1;31mNameError\u001b[0m                                 Traceback (most recent call last)",
      "\u001b[1;32m<ipython-input-464-791af4175d70>\u001b[0m in \u001b[0;36m<module>\u001b[1;34m\u001b[0m\n\u001b[0;32m      4\u001b[0m \u001b[1;33m\u001b[0m\u001b[0m\n\u001b[0;32m      5\u001b[0m \u001b[1;31m# step1\u001b[0m\u001b[1;33m\u001b[0m\u001b[1;33m\u001b[0m\u001b[1;33m\u001b[0m\u001b[0m\n\u001b[1;32m----> 6\u001b[1;33m \u001b[1;32mfor\u001b[0m \u001b[0mi\u001b[0m \u001b[1;32min\u001b[0m \u001b[0mrange\u001b[0m\u001b[1;33m(\u001b[0m\u001b[0mlen\u001b[0m\u001b[1;33m(\u001b[0m\u001b[0mfunc_input\u001b[0m\u001b[1;33m)\u001b[0m\u001b[1;33m)\u001b[0m\u001b[1;33m:\u001b[0m\u001b[1;33m\u001b[0m\u001b[1;33m\u001b[0m\u001b[0m\n\u001b[0m\u001b[0;32m      7\u001b[0m     \u001b[1;32mtry\u001b[0m\u001b[1;33m:\u001b[0m\u001b[1;33m\u001b[0m\u001b[1;33m\u001b[0m\u001b[0m\n\u001b[0;32m      8\u001b[0m         \u001b[1;32mif\u001b[0m \u001b[0mfunc_input\u001b[0m\u001b[1;33m[\u001b[0m\u001b[0mi\u001b[0m\u001b[1;33m]\u001b[0m\u001b[1;33m==\u001b[0m\u001b[1;34m\"D\"\u001b[0m \u001b[1;32mand\u001b[0m \u001b[0mfunc_input\u001b[0m\u001b[1;33m[\u001b[0m\u001b[0mi\u001b[0m\u001b[1;33m]\u001b[0m \u001b[1;33m!=\u001b[0m \u001b[0mfunc_input\u001b[0m\u001b[1;33m[\u001b[0m\u001b[0mi\u001b[0m\u001b[1;33m+\u001b[0m\u001b[1;36m1\u001b[0m\u001b[1;33m]\u001b[0m\u001b[1;33m:\u001b[0m\u001b[1;33m\u001b[0m\u001b[1;33m\u001b[0m\u001b[0m\n",
      "\u001b[1;31mNameError\u001b[0m: name 'func_input' is not defined"
>>>>>>> 44937d9fc6cc5d0196707c2dc0c4862be66e87c0
     ]
    }
   ],
   "source": [
<<<<<<< HEAD
    "import sys\n",
    "\n",
    "while True:\n",
    "    input = int(sys.stdin.readline()) # 정수 입력받음(첫째줄)\n",
    "\n",
    "    box = []\n",
    "    num = int(sys.stdin.readline().split())\n",
    "    if len(box) == 0:\n",
    "        for _ in range(num):\n",
    "            box.append(_)\n",
    "\n",
    "    else:\n",
    "        for _ in range(num):\n",
    "            if _ in box:\n",
    "                print(1)\n",
    "            else:\n",
    "                print(0)\n",
    "\n",
    "        box = [] # 리스트 초기화\n",
    "        break"
   ]
  },
  {
   "cell_type": "code",
   "execution_count": 22,
   "metadata": {},
   "outputs": [
    {
     "data": {
      "text/plain": [
       "[1, 2, 3, 4, 5]"
      ]
     },
     "execution_count": 22,
     "metadata": {},
     "output_type": "execute_result"
    }
   ],
   "source": [
    "lst = [3, 1, 5, 2, 4]\n",
    "lst.sort()\n",
    "lst"
   ]
  },
  {
   "cell_type": "code",
   "execution_count": 24,
   "metadata": {},
   "outputs": [
    {
     "data": {
      "text/plain": [
       "2"
      ]
     },
     "execution_count": 24,
     "metadata": {},
     "output_type": "execute_result"
    }
   ],
   "source": [
    "int(len(lst)/2)"
   ]
  },
  {
   "cell_type": "code",
   "execution_count": 21,
   "metadata": {},
   "outputs": [
    {
     "data": {
      "text/plain": [
       "[1, 2]"
      ]
     },
     "execution_count": 21,
     "metadata": {},
     "output_type": "execute_result"
    }
   ],
   "source": [
    "lst[:int((len(lst)/2))]"
   ]
  },
  {
   "cell_type": "code",
   "execution_count": 7,
   "metadata": {},
   "outputs": [],
   "source": [
    "lst = ['1', '2']"
   ]
  },
  {
   "cell_type": "code",
   "execution_count": 13,
   "metadata": {
    "scrolled": true
   },
   "outputs": [
    {
     "data": {
      "text/plain": [
       "[1, 2]"
      ]
     },
     "execution_count": 13,
     "metadata": {},
     "output_type": "execute_result"
    }
   ],
   "source": [
    "ss = list(map(int, lst))\n",
    "ss"
   ]
  },
  {
   "cell_type": "code",
   "execution_count": 1,
   "metadata": {},
   "outputs": [],
   "source": [
    "from collections import deque"
   ]
  },
  {
   "cell_type": "code",
   "execution_count": 7,
   "metadata": {},
   "outputs": [],
   "source": [
    "deq = deque([1, 2, 3, 4, 5])"
   ]
  },
  {
   "cell_type": "code",
   "execution_count": 18,
   "metadata": {},
   "outputs": [
    {
     "data": {
      "text/plain": [
       "4"
      ]
     },
     "execution_count": 18,
     "metadata": {},
     "output_type": "execute_result"
    }
   ],
   "source": [
    "deq[3]"
   ]
  },
  {
   "cell_type": "code",
   "execution_count": 1,
   "metadata": {},
   "outputs": [],
   "source": [
    "li = ['a', 'b', 'c', 'd']"
   ]
  },
  {
   "cell_type": "code",
   "execution_count": 4,
   "metadata": {},
   "outputs": [],
   "source": [
    "li.insert(4, 'x')"
   ]
  },
  {
   "cell_type": "code",
   "execution_count": 6,
   "metadata": {},
   "outputs": [],
   "source": [
    "li.insert(4, 's')"
   ]
  },
  {
   "cell_type": "code",
   "execution_count": 8,
   "metadata": {},
   "outputs": [],
   "source": [
    "li.insert(1, 'w')"
   ]
  },
  {
   "cell_type": "code",
   "execution_count": 9,
   "metadata": {},
   "outputs": [
    {
     "data": {
      "text/plain": [
       "['a', 'w', 'b', 'c', 'd', 's', 'x']"
      ]
     },
     "execution_count": 9,
     "metadata": {},
     "output_type": "execute_result"
    }
   ],
   "source": [
    "li"
=======
    "split_list = []\n",
    "first = True\n",
    "j = 0\n",
    "\n",
    "# step1\n",
    "for i in range(len(func_input)):\n",
    "    try:\n",
    "        if func_input[i]==\"D\" and func_input[i] != func_input[i+1]:\n",
    "            # first\n",
    "            if first is True:\n",
    "                split_list.append(func_input[:i+1]) # **\n",
    "                j = i+1 # i인덱스를 j에 저장\n",
    "                first = not first\n",
    "\n",
    "            # middle\n",
    "            else:\n",
    "                split_list.append(func_input[j:i+1]) # **\n",
    "                j=i+1 # i인덱스를 j에 저장\n",
    "                \n",
    "    except:\n",
    "        split_list.append(func_input)\n",
    "        \n",
    "if j: # final\n",
    "    split_list.append(func_input[j:])\n",
    "    \n",
    "    \n",
    "# step2\n",
    "for i in split_list:\n",
    "    if len(func_input) >= len(c):\n",
    "        print('error')\n",
    "        func_inputreak\n",
    "    \n",
    "    else:\n",
    "        if i.count('R')%2 ==0 or i.count('R') == 0: # 왼쪽으로 제거\n",
    "            delete = i.count('D')\n",
    "            del c[:delete] # 여기서 c는 배열\n",
    "\n",
    "        else: # 오른쪽으로 제거\n",
    "            delete = i.count('D')\n",
    "            del c[-(delete):]\n",
    "\n",
    "        if func_input.count('R')%2 == 1:\n",
    "            c.reverse()\n",
    "        \n",
    "        print(split_list)\n",
    "        print(c)\n",
    "        \n",
    "        \n",
    "# print(split_list)\n",
    "# print(c)"
>>>>>>> 44937d9fc6cc5d0196707c2dc0c4862be66e87c0
   ]
  },
  {
   "cell_type": "code",
   "execution_count": 452,
   "id": "64f8309d",
   "metadata": {},
   "outputs": [
    {
     "data": {
      "text/plain": [
       "0"
      ]
     },
     "execution_count": 452,
     "metadata": {},
     "output_type": "execute_result"
    }
   ],
   "source": [
    "x = []\n",
    "len(x)"
   ]
  },
  {
   "cell_type": "code",
   "execution_count": null,
   "id": "02503907",
   "metadata": {},
   "outputs": [],
   "source": []
  },
  {
   "cell_type": "code",
   "execution_count": null,
   "id": "86ae1284",
   "metadata": {},
   "outputs": [],
   "source": []
  },
  {
   "cell_type": "code",
   "execution_count": null,
   "id": "d769ec8b",
   "metadata": {},
   "outputs": [],
   "source": []
  },
  {
   "cell_type": "code",
   "execution_count": null,
   "id": "16f61065",
   "metadata": {},
   "outputs": [],
   "source": []
  }
 ],
 "metadata": {
  "kernelspec": {
   "display_name": "Python 3",
   "language": "python",
   "name": "python3"
  },
  "language_info": {
   "codemirror_mode": {
    "name": "ipython",
    "version": 3
   },
   "file_extension": ".py",
   "mimetype": "text/x-python",
   "name": "python",
   "nbconvert_exporter": "python",
   "pygments_lexer": "ipython3",
   "version": "3.8.5"
  }
 },
 "nbformat": 4,
 "nbformat_minor": 5
}
