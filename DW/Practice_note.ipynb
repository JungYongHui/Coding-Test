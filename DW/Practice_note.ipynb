{
 "cells": [
  {
   "cell_type": "code",
   "execution_count": 10,
   "id": "ee77a6f3",
   "metadata": {},
   "outputs": [
    {
     "name": "stdout",
     "output_type": "stream",
     "text": [
      "비어있음\n"
     ]
    }
   ],
   "source": [
    "stack = []\n",
    "\n",
    "if not stack:\n",
    "    print('비어있음')\n",
    "else:\n",
    "    print('들어있음')"
   ]
  },
  {
   "cell_type": "code",
   "execution_count": 2,
   "id": "f74cf610",
   "metadata": {},
   "outputs": [],
   "source": [
    "li = ['1', '2']"
   ]
  },
  {
   "cell_type": "code",
   "execution_count": 11,
   "id": "f59bc5d1",
   "metadata": {},
   "outputs": [
    {
     "name": "stdout",
     "output_type": "stream",
     "text": [
      "들어있음\n"
     ]
    }
   ],
   "source": [
    "stack = []\n",
    "\n",
    "if stack:\n",
    "    print('비어있음')\n",
    "else:\n",
    "    print('들어있음')"
   ]
  },
  {
   "cell_type": "code",
   "execution_count": 15,
   "id": "76e9f4c2",
   "metadata": {
    "scrolled": true
   },
   "outputs": [
    {
     "name": "stdout",
     "output_type": "stream",
     "text": [
      "[8, 7, 3, 2, 1]\n"
     ]
    }
   ],
   "source": [
    "li = [1, 1, 1, 6, 0]\n",
    "li.sort()\n",
    "li2 = [2, 7, 8, 3, 1]\n",
    "li2.sort()\n",
    "li2.reverse()\n",
    "\n",
    "\n",
    "print(li2)"
   ]
  }
 ],
 "metadata": {
  "kernelspec": {
   "display_name": "Python 3",
   "language": "python",
   "name": "python3"
  },
  "language_info": {
   "codemirror_mode": {
    "name": "ipython",
    "version": 3
   },
   "file_extension": ".py",
   "mimetype": "text/x-python",
   "name": "python",
   "nbconvert_exporter": "python",
   "pygments_lexer": "ipython3",
   "version": "3.8.8"
  }
 },
 "nbformat": 4,
 "nbformat_minor": 5
}
