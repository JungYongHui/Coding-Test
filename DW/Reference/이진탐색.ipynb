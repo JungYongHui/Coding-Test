{
 "cells": [
  {
   "cell_type": "markdown",
   "id": "2fcb76e7",
   "metadata": {},
   "source": [
    "# 이진탐색\n",
    "\n",
    "- data 중에서 target 을 검색하여 index 값을 return 한다."
   ]
  },
  {
   "cell_type": "code",
   "execution_count": 6,
   "id": "5702bd4d",
   "metadata": {},
   "outputs": [
    {
     "name": "stdout",
     "output_type": "stream",
     "text": [
      "9 [3]에 위치함\n"
     ]
    }
   ],
   "source": [
    "def binary_search(target, data):\n",
    "    data.sort() # 먼저 데이터를 정렬해야한다.\n",
    "    start = 0 # 탐색할 첫 번째 위치\n",
    "    end = len(data)-1 # 탐색할 마지막 위치\n",
    "    \n",
    "    while start < end: # 첫 번쨰가 마지막 보다 클 수 없다, 첫 번째가 마지막과 같으면 종료.\n",
    "        mid = (start+end) // 2 # 중앙값 계속 초기화\n",
    "        \n",
    "        if data[mid] == target:\n",
    "            return mid # 찾았으므로, 함수 종료\n",
    "        elif data[mid] < target:\n",
    "            start = mid+1 # target이 뒤에 있으니, 시작지점을 중앙값으로 보냄\n",
    "        else: # data[mid] > target\n",
    "            end = mid-1 # target값이 앞에 있으니, 마지막지접을 중앙값으로 보냄\n",
    "    return None # 결국 여기가 return 됐다는 거슨, 값이 없다는겨\n",
    "\n",
    "\n",
    "# test용 코드\n",
    "if __name__ == \"__main__\":\n",
    "    li = [num**2 for num in range(11)]\n",
    "    target = 9 # 찾고자 하는 값\n",
    "    \n",
    "    idx = binary_search(target, li) # 위치 출력\n",
    "    if idx:\n",
    "        print(li[idx], \"[{}]에 위치함\".format(idx))\n",
    "    else:\n",
    "        print(\"없음\")"
   ]
  }
 ],
 "metadata": {
  "kernelspec": {
   "display_name": "Python 3",
   "language": "python",
   "name": "python3"
  },
  "language_info": {
   "codemirror_mode": {
    "name": "ipython",
    "version": 3
   },
   "file_extension": ".py",
   "mimetype": "text/x-python",
   "name": "python",
   "nbconvert_exporter": "python",
   "pygments_lexer": "ipython3",
   "version": "3.8.8"
  }
 },
 "nbformat": 4,
 "nbformat_minor": 5
}
